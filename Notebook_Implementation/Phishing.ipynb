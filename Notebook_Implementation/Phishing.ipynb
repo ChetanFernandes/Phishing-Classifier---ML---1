{
 "cells": [
  {
   "cell_type": "code",
   "execution_count": 1,
   "id": "54f314a3-00aa-4673-b9f9-1d9fc5f1ecd4",
   "metadata": {},
   "outputs": [],
   "source": [
    "import pandas as pd\n",
    "import matplotlib.pyplot as plot\n",
    "import seaborn as sns"
   ]
  },
  {
   "cell_type": "code",
   "execution_count": null,
   "id": "6c6ed4bd-8368-4810-ab08-76bec4e66702",
   "metadata": {},
   "outputs": [],
   "source": [
    "plot.figure(figsize=(15,50), facecolor='white')\n",
    "plotnumber =1\n",
    "\n",
    "for column in data.drop(['Result'],axis=1):\n",
    "    ax = plot.subplot(12,3,plotnumber)\n",
    "    sns.countplot(data[column])\n",
    "    plot.xlabel(column,fontsize=10)\n",
    "    plotnumber+=1\n",
    "plot.show()"
   ]
  },
  {
   "cell_type": "code",
   "execution_count": null,
   "id": "950e18ff-b912-4894-a78c-742ef9081541",
   "metadata": {},
   "outputs": [],
   "source": [
    "\n",
    "sns.countplot(data['Result'])"
   ]
  }
 ],
 "metadata": {
  "kernelspec": {
   "display_name": "Python 3 (ipykernel)",
   "language": "python",
   "name": "python3"
  },
  "language_info": {
   "codemirror_mode": {
    "name": "ipython",
    "version": 3
   },
   "file_extension": ".py",
   "mimetype": "text/x-python",
   "name": "python",
   "nbconvert_exporter": "python",
   "pygments_lexer": "ipython3",
   "version": "3.12.4"
  }
 },
 "nbformat": 4,
 "nbformat_minor": 5
}
